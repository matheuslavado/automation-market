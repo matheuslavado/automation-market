{
 "cells": [
  {
   "cell_type": "code",
   "execution_count": 1,
   "metadata": {
    "ExecuteTime": {
     "end_time": "2020-05-25T01:35:13.964162Z",
     "start_time": "2020-05-25T01:35:13.518066Z"
    }
   },
   "outputs": [],
   "source": [
    "import requests\n",
    "import time\n",
    "from selenium import webdriver\n",
    "from selenium.webdriver.common.keys import Keys\n",
    "from twilio.rest import Client"
   ]
  },
  {
   "cell_type": "code",
   "execution_count": 2,
   "metadata": {
    "ExecuteTime": {
     "end_time": "2020-05-25T01:35:13.976097Z",
     "start_time": "2020-05-25T01:35:13.967101Z"
    }
   },
   "outputs": [],
   "source": [
    "# Realizando leitura do arquivo com informações necessárias para implementação da automatização\n",
    "# Exemplo: senhas, logins, números de telefone\n",
    "\n",
    "with open('info.txt', 'r') as f:\n",
    "    # Lendo arquivo txt e transformando em dicionário\n",
    "    info = eval(f.read())\n",
    "    \n",
    "    # Realizando leitura de CEP para posterior entrada no site\n",
    "    CEP = info['CEP']\n",
    "    # Número do Whatsapp para qual enviará a mensagem\n",
    "    number_send = info['telefone']\n",
    "    \n",
    "    # Login e senha do site do supermercado\n",
    "    email_login = info['email_login']\n",
    "    senha_login = info['senha_login']\n",
    "    \n",
    "    # Informações do Twilio para envio da mensagem via Whatsapp\n",
    "    twilio_number = info['twilio_number']\n",
    "    twilio_sid = info['twilio_sid']\n",
    "    twilio_auth = info['twilio_auth']\n",
    "    \n",
    "    f.close()"
   ]
  },
  {
   "cell_type": "code",
   "execution_count": 3,
   "metadata": {
    "ExecuteTime": {
     "end_time": "2020-05-25T01:35:49.159124Z",
     "start_time": "2020-05-25T01:35:13.988089Z"
    }
   },
   "outputs": [
    {
     "data": {
      "text/plain": [
       "'Amanhã - 17h às 19h'"
      ]
     },
     "execution_count": 3,
     "metadata": {},
     "output_type": "execute_result"
    }
   ],
   "source": [
    "# Acessando site via driver do chrome\n",
    "driver = webdriver.Chrome()\n",
    "driver.set_page_load_timeout(10)\n",
    "driver.get('https://supermercadonow.com/produtos/master-supermercados-consolacao/')\n",
    "driver.maximize_window()\n",
    "\n",
    "# Acessando e inserindo informações (CEP, login, senha)\n",
    "driver.find_element_by_xpath('/html/body/div[1]/div[2]/div[1]/div/div[2]/div[1]/div/div[3]/button/span').click()\n",
    "driver.find_element_by_xpath('/html/body/div[1]/div[1]/div[2]/div[2]/div/div/div/input').send_keys(CEP)\n",
    "time.sleep(2)\n",
    "driver.find_element_by_xpath('/html/body/div[1]/div[1]/div[2]/div[2]/div/div/div[2]/button[1]').click()\n",
    "time.sleep(5)\n",
    "driver.find_element_by_xpath('/html/body/div[1]/div[1]/div[2]/div[2]/div/div/div[1]/div[1]/input').send_keys(email_login)\n",
    "driver.find_element_by_xpath('/html/body/div[1]/div[1]/div[2]/div[2]/div/div/div[1]/div[2]/input').send_keys(senha_login)\n",
    "\n",
    "# Acessando informações de disponibilidade de horário\n",
    "driver.find_element_by_xpath('/html/body/div[1]/div[1]/div[2]/div[2]/div/div/div[2]/button').click()\n",
    "time.sleep(10)\n",
    "driver.find_element_by_xpath('/html/body/div[1]/div[5]/div/div[2]/div[2]/div/div[2]/button').click()\n",
    "time.sleep(5)\n",
    "resultado = driver.find_element_by_xpath('/html/body/div[1]/div[1]/div[1]/div/div[3]/div/div[3]/div[1]/div').text\n",
    "resultado"
   ]
  },
  {
   "cell_type": "code",
   "execution_count": 4,
   "metadata": {
    "ExecuteTime": {
     "end_time": "2020-05-25T01:35:49.172099Z",
     "start_time": "2020-05-25T01:35:49.161105Z"
    }
   },
   "outputs": [
    {
     "name": "stdout",
     "output_type": "stream",
     "text": [
      "22:35 - HORÁRIO DISPONÍVEL !!!! \n",
      "22:35 - HORÁRIO DISPONÍVEL !!!! \n",
      "22:35 - HORÁRIO DISPONÍVEL !!!! \n",
      "22:35 - HORÁRIO DISPONÍVEL !!!! \n",
      "22:35 - HORÁRIO DISPONÍVEL !!!! \n",
      "22:35 - HORÁRIO DISPONÍVEL !!!! \n",
      "22:35 - HORÁRIO DISPONÍVEL !!!! \n",
      "22:35 - HORÁRIO DISPONÍVEL !!!! \n",
      "22:35 - HORÁRIO DISPONÍVEL !!!! \n",
      "22:35 - HORÁRIO DISPONÍVEL !!!! \n",
      "\n"
     ]
    }
   ],
   "source": [
    "# Enquanto o resultado da busca for 'sem disponibilidade' a automatização fara a busca a cada minuto até que haja horário disponível\n",
    "\n",
    "while resultado == 'sem disponibilidade':\n",
    "    print(time.strftime(\"%H %M\").replace(' ', ':'), ' - ', 'Horário não encontrado')\n",
    "    time.sleep(5)\n",
    "    driver.refresh()\n",
    "    time.sleep(5)\n",
    "    try:\n",
    "        driver.find_element_by_xpath('/html/body/div[1]/div[3]/div/div[2]/div[2]/div/div/button').click()\n",
    "        time.sleep(5)\n",
    "        resultado = driver.find_element_by_xpath('/html/body/div[1]/div[1]/div[1]/div/div[3]/div/div[3]/div[1]/div/span').text\n",
    "    except:\n",
    "        time.sleep(5)\n",
    "        resultado = driver.find_element_by_xpath('/html/body/div[1]/div[1]/div[1]/div/div[3]/div/div[3]/div[1]/div/label').text\n",
    "    time.sleep(40)\n",
    "\n",
    "encontrado = time.strftime(\"%H %M\").replace(' ', ':') + ' - ' + 'HORÁRIO DISPONÍVEL !!!! \\n'   \n",
    "print(encontrado*10)"
   ]
  },
  {
   "cell_type": "code",
   "execution_count": 6,
   "metadata": {
    "ExecuteTime": {
     "end_time": "2020-05-25T01:36:16.076493Z",
     "start_time": "2020-05-25T01:36:15.082115Z"
    },
    "scrolled": false
   },
   "outputs": [],
   "source": [
    "# Enviando mensagem no Whatsapp via Twilio\n",
    "\n",
    "client = Client(twilio_sid, twilio_auth)\n",
    "\n",
    "from_whatsapp_number = f'whatsapp:{twilio_number}'\n",
    "to_whatsapp_number = f'whatsapp:{number_send}'\n",
    "\n",
    "client.messages.create(body = f'Horário disponível em Master Supermercado. {resultado}.',\n",
    "                       from_ = from_whatsapp_number,\n",
    "                       to = to_whatsapp_number);"
   ]
  },
  {
   "cell_type": "code",
   "execution_count": null,
   "metadata": {},
   "outputs": [],
   "source": []
  }
 ],
 "metadata": {
  "kernelspec": {
   "display_name": "Python 3",
   "language": "python",
   "name": "python3"
  },
  "language_info": {
   "codemirror_mode": {
    "name": "ipython",
    "version": 3
   },
   "file_extension": ".py",
   "mimetype": "text/x-python",
   "name": "python",
   "nbconvert_exporter": "python",
   "pygments_lexer": "ipython3",
   "version": "3.7.4"
  },
  "toc": {
   "base_numbering": 1,
   "nav_menu": {},
   "number_sections": true,
   "sideBar": true,
   "skip_h1_title": false,
   "title_cell": "Table of Contents",
   "title_sidebar": "Contents",
   "toc_cell": false,
   "toc_position": {},
   "toc_section_display": true,
   "toc_window_display": false
  },
  "varInspector": {
   "cols": {
    "lenName": 16,
    "lenType": 16,
    "lenVar": 40
   },
   "kernels_config": {
    "python": {
     "delete_cmd_postfix": "",
     "delete_cmd_prefix": "del ",
     "library": "var_list.py",
     "varRefreshCmd": "print(var_dic_list())"
    },
    "r": {
     "delete_cmd_postfix": ") ",
     "delete_cmd_prefix": "rm(",
     "library": "var_list.r",
     "varRefreshCmd": "cat(var_dic_list()) "
    }
   },
   "types_to_exclude": [
    "module",
    "function",
    "builtin_function_or_method",
    "instance",
    "_Feature"
   ],
   "window_display": false
  }
 },
 "nbformat": 4,
 "nbformat_minor": 2
}
